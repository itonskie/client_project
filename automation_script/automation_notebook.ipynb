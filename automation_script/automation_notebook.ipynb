{
 "cells": [
  {
   "cell_type": "code",
   "execution_count": 1,
   "id": "55b883cf-3964-4b2f-805f-56279e60d041",
   "metadata": {
    "tags": []
   },
   "outputs": [
    {
     "data": {
      "text/plain": [
       "'Pipeline Finished Processing'"
      ]
     },
     "execution_count": 1,
     "metadata": {},
     "output_type": "execute_result"
    }
   ],
   "source": [
    "from automation_script import *\n",
    "\n",
    "automation = AutomationProcess()\n",
    "automation.add_input_path('inputs/UpworkSampleCSV.csv')\\\n",
    "            .add_output_path('outputs/')\\\n",
    "            .automate_by_rating_count()"
   ]
  },
  {
   "cell_type": "code",
   "execution_count": 3,
   "id": "d0aa4162-f607-4fee-acf3-103d3ab65d93",
   "metadata": {
    "tags": []
   },
   "outputs": [],
   "source": [
    "!python automate.py --input inputs/UpworkSampleCSV.csv --output outputs/"
   ]
  },
  {
   "cell_type": "code",
   "execution_count": 5,
   "id": "f5399dc2-d176-48e1-a0c5-397fdb6b8f3a",
   "metadata": {
    "tags": []
   },
   "outputs": [],
   "source": [
    "!python automate.py --config config.txt"
   ]
  }
 ],
 "metadata": {
  "kernelspec": {
   "display_name": "Python 3 (ipykernel)",
   "language": "python",
   "name": "python3"
  },
  "language_info": {
   "codemirror_mode": {
    "name": "ipython",
    "version": 3
   },
   "file_extension": ".py",
   "mimetype": "text/x-python",
   "name": "python",
   "nbconvert_exporter": "python",
   "pygments_lexer": "ipython3",
   "version": "3.10.4"
  }
 },
 "nbformat": 4,
 "nbformat_minor": 5
}
